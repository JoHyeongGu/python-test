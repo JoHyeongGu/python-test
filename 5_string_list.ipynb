{
  "nbformat": 4,
  "nbformat_minor": 0,
  "metadata": {
    "colab": {
      "provenance": []
    },
    "kernelspec": {
      "name": "python3",
      "display_name": "Python 3"
    },
    "language_info": {
      "name": "python"
    }
  },
  "cells": [
    {
      "cell_type": "code",
      "execution_count": 3,
      "metadata": {
        "colab": {
          "base_uri": "https://localhost:8080/"
        },
        "id": "ynFoz9y7tQsa",
        "outputId": "81366c58-220d-4cfa-def4-4e071e1a25ec"
      },
      "outputs": [
        {
          "output_type": "stream",
          "name": "stdout",
          "text": [
            "Please Enter an inch to convert >> 30\n",
            "30inches is 76.2cm\n"
          ]
        }
      ],
      "source": [
        "# 단위 변환하기 (출력 구분자 지정하기)\n",
        "inch = float(input(\"Please Enter an inch to convert >> \"))\n",
        "rate = 2.54\n",
        "cm = inch * rate\n",
        "print(int(inch), \"inches is \", cm, \"cm\", sep = \"\")"
      ]
    },
    {
      "cell_type": "code",
      "source": [
        "# 문자열에서의 큰따음표와 작은 따옴표 문자열에서의 큰따음표와 작은 따옴표\n",
        "char1 = 'Python'\n",
        "char2 = \"pythonpython\"\n",
        "print(char1, char2)\n",
        "print(type(char1), type(char2))"
      ],
      "metadata": {
        "colab": {
          "base_uri": "https://localhost:8080/"
        },
        "id": "gV7Id8UYtzGX",
        "outputId": "9640574b-e820-4579-a253-d515569f6f0b"
      },
      "execution_count": 5,
      "outputs": [
        {
          "output_type": "stream",
          "name": "stdout",
          "text": [
            "Python pythonpython\n",
            "<class 'str'> <class 'str'>\n"
          ]
        }
      ]
    },
    {
      "cell_type": "code",
      "source": [
        "# 문자열 합치기\n",
        "a = \"I\"\n",
        "b = \"love\"\n",
        "c = \"Python.\"\n",
        "print(a + b + c)\n",
        "print(a + \" \" + b + \" \" + c)\n",
        "print(a + b * 3 + c)"
      ],
      "metadata": {
        "colab": {
          "base_uri": "https://localhost:8080/"
        },
        "id": "nuUSOBvYuTZ4",
        "outputId": "9a90c77a-8ce6-4265-89f4-34f505536b4e"
      },
      "execution_count": 12,
      "outputs": [
        {
          "output_type": "stream",
          "name": "stdout",
          "text": [
            "IlovePython.\n",
            "I love Python.\n",
            "IlovelovelovePython.\n"
          ]
        }
      ]
    },
    {
      "cell_type": "code",
      "source": [
        "# 문자열에서의 인덱싱\n",
        "x = \"python\"\n",
        "print(x)\n",
        "print(x[2])\n",
        "print(x[5])\n",
        "print(x[len(x) - 1])\n",
        "print(x[-1])\n",
        "print(x[0:2])\n",
        "print(x[:4])\n",
        "print(x[-5:-1])"
      ],
      "metadata": {
        "colab": {
          "base_uri": "https://localhost:8080/"
        },
        "id": "WpvrDCXnwzJe",
        "outputId": "a72f5d74-3414-47a8-a963-a8205d1167af"
      },
      "execution_count": 23,
      "outputs": [
        {
          "output_type": "stream",
          "name": "stdout",
          "text": [
            "python\n",
            "t\n",
            "n\n",
            "n\n",
            "n\n",
            "py\n",
            "pyth\n",
            "ytho\n"
          ]
        }
      ]
    },
    {
      "cell_type": "code",
      "source": [
        "# Hello World 슬라이싱\n",
        "str = \"Hello World\"\n",
        "print(str[0:5])\n",
        "print(str[:5])\n",
        "print(str[6:11])\n",
        "print(str[-11:-6])\n",
        "print(str[:4])"
      ],
      "metadata": {
        "colab": {
          "base_uri": "https://localhost:8080/"
        },
        "id": "kFzzLlhaxb0Q",
        "outputId": "377ba95c-704b-4073-f055-d75a3123a2f9"
      },
      "execution_count": 29,
      "outputs": [
        {
          "output_type": "stream",
          "name": "stdout",
          "text": [
            "Hello\n",
            "Hello\n",
            "World\n",
            "Hello\n",
            "Hell\n"
          ]
        }
      ]
    },
    {
      "cell_type": "code",
      "source": [
        "# 리스트 타입\n",
        "text = [1, 3, 6, 9, 12, 15, 18, 21]\n",
        "print(type(text))\n",
        "print(text)\n",
        "print(\"index:\", *[int(num / 3) for num in text])\n",
        "print(*text[:3])\n",
        "text[6] = 20\n",
        "print(text)\n",
        "del text[2:4]\n",
        "print(text)"
      ],
      "metadata": {
        "colab": {
          "base_uri": "https://localhost:8080/"
        },
        "id": "rRAT8pqt6UJk",
        "outputId": "8b049208-c4b6-412e-a4c6-0cfff43c4a0e"
      },
      "execution_count": 51,
      "outputs": [
        {
          "output_type": "stream",
          "name": "stdout",
          "text": [
            "<class 'list'>\n",
            "[1, 3, 6, 9, 12, 15, 18, 21]\n",
            "index: 0 1 2 3 4 5 6 7\n",
            "1 3 6\n",
            "[1, 3, 6, 9, 12, 15, 20, 21]\n",
            "[1, 3, 12, 15, 20, 21]\n"
          ]
        }
      ]
    },
    {
      "cell_type": "code",
      "source": [
        "# 주민등록번호로 생일 출력하기\n",
        "birth = input(\"주민번호 앞자리 입력: \")\n",
        "year = birth[:2]\n",
        "year = (\"19\" if int(year) > 24 else \"20\") + year\n",
        "month = birth[2:4]\n",
        "day = birth[4:]\n",
        "age = 2024 - int(year) + 1\n",
        "print(\"당신은\", year, \"년에 태어났군요.\")\n",
        "print(\"당신의 생일은 \", month, \"월 \", day, \" 일 이군요.\", sep = \"\")\n",
        "print(\"당신은 올해\", age, \"살 이군요\")"
      ],
      "metadata": {
        "colab": {
          "base_uri": "https://localhost:8080/"
        },
        "id": "pLVyvcTE9TP9",
        "outputId": "86987291-4c7e-403b-c157-743d7a61ee61"
      },
      "execution_count": 62,
      "outputs": [
        {
          "output_type": "stream",
          "name": "stdout",
          "text": [
            "주민번호 앞자리 입력: 011024\n",
            "당신은 2001 년에 태어났군요.\n",
            "당신의 생일은 10월 24 일 이군요.\n",
            "당신은 올해 24 살 이군요\n"
          ]
        }
      ]
    },
    {
      "cell_type": "code",
      "source": [
        "# 리스트 수정\n",
        "c = [10, 20, 30]\n",
        "c.append(40)\n",
        "print(c)\n",
        "# c[4] = 50 : Error\n",
        "c.insert(4, 50)\n",
        "print(c)"
      ],
      "metadata": {
        "colab": {
          "base_uri": "https://localhost:8080/"
        },
        "id": "cMV9mzT3BtRd",
        "outputId": "27aee694-e1c8-4f37-f1c8-a4fd3f15c2fd"
      },
      "execution_count": 67,
      "outputs": [
        {
          "output_type": "stream",
          "name": "stdout",
          "text": [
            "[10, 20, 30, 40]\n",
            "[10, 20, 30, 40, 50]\n"
          ]
        }
      ]
    },
    {
      "cell_type": "code",
      "source": [
        "fruit = [\"apple\", \"banana\", \"tomato\", \"peach\"]\n",
        "print(len(fruit))\n",
        "print(fruit[1])\n",
        "#print(min(fruit))\n",
        "#print(max(fruit))\n",
        "\n",
        "a = [1, 2, 0, 5]\n",
        "b = [1, 2, 3, 4, 5]\n",
        "print(a + b)\n",
        "print(min(a))\n",
        "print(max(a))"
      ],
      "metadata": {
        "colab": {
          "base_uri": "https://localhost:8080/"
        },
        "id": "3T36uKt5F0Xg",
        "outputId": "420f4b13-4f57-49bf-c5d9-e1f808c96d54"
      },
      "execution_count": 73,
      "outputs": [
        {
          "output_type": "stream",
          "name": "stdout",
          "text": [
            "4\n",
            "banana\n",
            "[1, 2, 0, 5, 1, 2, 3, 4, 5]\n",
            "0\n",
            "5\n"
          ]
        }
      ]
    },
    {
      "cell_type": "code",
      "source": [
        "heroes = [\"spider_man\", \"hulk\", \"iron_man\", \"thor\"]\n",
        "print(\"헐크는 영웅입니다.\" if \"hulk\" in heroes else \"헐크는 영웅이 아닙니다.\")\n",
        "print(\"아이언맨은 \", heroes.index(\"iron_man\") + 1, \"번째 영웅\", sep = \"\")\n",
        "except_index = int(input(\"몇 번째 영웅을 빼뻐릴까요? \")) - 1\n",
        "except_hero = heroes.pop(except_index)\n",
        "print(\"이제 \", except_hero, \"빼서 남은 영웅 리스트는 \", heroes, \" 입니다.\", sep = \"\")\n",
        "heroes.remove(\"spider_man\")\n",
        "print(\"스파이더맨이 사직서 내서 이제 남은 영웅은\", heroes, \"입니다.\")"
      ],
      "metadata": {
        "colab": {
          "base_uri": "https://localhost:8080/"
        },
        "id": "rQOub_qgIdu4",
        "outputId": "33c0867e-e218-462a-9b8f-c7e4266ecf13"
      },
      "execution_count": 88,
      "outputs": [
        {
          "output_type": "stream",
          "name": "stdout",
          "text": [
            "헐크는 영웅입니다.\n",
            "아이언맨은 3번째 영웅\n",
            "몇 번째 영웅을 빼뻐릴까요? 4\n",
            "이제 thor빼서 남은 영웅 리스트는 ['spider_man', 'hulk', 'iron_man'] 입니다.\n",
            "스파이더맨이 사직서 내서 이제 남은 영웅은 ['hulk', 'iron_man'] 입니다.\n"
          ]
        }
      ]
    },
    {
      "cell_type": "code",
      "source": [
        "list1 = [1, 2, 3]\n",
        "list2 = [1, 2, 3]\n",
        "print(list1 == list2)\n",
        "print(list1 != list2)\n",
        "\n",
        "list2 = [2, 3, 4]\n",
        "print(list1 < list2)"
      ],
      "metadata": {
        "colab": {
          "base_uri": "https://localhost:8080/"
        },
        "id": "42NbatZCLxls",
        "outputId": "26896fbd-ac5c-42c7-8bcd-87b79baebfda"
      },
      "execution_count": 91,
      "outputs": [
        {
          "output_type": "stream",
          "name": "stdout",
          "text": [
            "True\n",
            "False\n",
            "True\n"
          ]
        }
      ]
    },
    {
      "cell_type": "code",
      "source": [
        "# 가장 긴 문자열과 가장 짧은 문자열 출력\n",
        "words = []\n",
        "for _ in range(5):\n",
        "  words.append(input(\"단어를 입력하세요: \"))\n",
        "max = words[0]\n",
        "min = words[0]\n",
        "for word in words:\n",
        "  if len(word) > len(max): max = word\n",
        "  if len(word) < len(min): min = word\n",
        "print(\"가장 긴 문자열:\", max)\n",
        "print(\"가장 짧은 문자열:\", min)"
      ],
      "metadata": {
        "colab": {
          "base_uri": "https://localhost:8080/"
        },
        "id": "4W8khIzANgwa",
        "outputId": "88d8e575-2ac9-435e-9a0e-4a2da4dc50c5"
      },
      "execution_count": 99,
      "outputs": [
        {
          "output_type": "stream",
          "name": "stdout",
          "text": [
            "단어를 입력하세요: Hello\n",
            "단어를 입력하세요: My name is JoHyeongGu\n",
            "단어를 입력하세요: I'm 24\n",
            "단어를 입력하세요: And Live in Paju\n",
            "단어를 입력하세요: Thank you\n",
            "가장 긴 문자열: My name is JoHyeongGu\n",
            "가장 짧은 문자열: Hello\n"
          ]
        }
      ]
    }
  ]
}